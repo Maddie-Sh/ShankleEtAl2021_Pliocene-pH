{
 "cells": [
  {
   "cell_type": "code",
   "execution_count": 6,
   "metadata": {},
   "outputs": [],
   "source": [
    "# Author: Natalie Burls, George Mason University\n",
    "\n",
    "%reset -f\n",
    "# Loading libraries\n",
    "import matplotlib.pyplot as plt\n",
    "import numpy as np\n",
    "import xarray as xr\n",
    "import xesmf as xe\n",
    "import pandas as pd\n",
    "import cftime \n",
    "import matplotlib.colors as mcolors\n",
    "import Ngl"
   ]
  },
  {
   "cell_type": "code",
   "execution_count": 7,
   "metadata": {},
   "outputs": [],
   "source": [
    "# PI Control\n",
    "PI_CISO_Data = xr.open_dataset('/glade/p/univ/p93300190/nburls/PreInd_ciso_T31_gx3v7/ocn/hist/CLIM/PreInd_ciso_T31_gx3v7_ALL.2901-3000.nc',decode_times=True)\n",
    "\n",
    "# PlioB17_ciso_T31_gx3v7_branch - Exp A\n",
    "#ExpA_CISO_Data = xr.open_dataset('/glade/p/univ/p93300190/nburls/PlioB17_ciso_T31_gx3v7_branch/ocn/hist/CLIM/PlioB17_ciso_T31_gx3v7_branch_ALL.2901-3000.nc',decode_times=True) \n",
    "PlioMio_CISO_Data = xr.open_dataset('/glade/p/univ/p93300190/nburls/PlioB17_ciso_T31_gx3v7_branch/ocn/hist/CLIM/PlioB17_ciso_T31_gx3v7_branch_ALL.2901-3000.nc',decode_times=True) \n",
    "\n",
    "# Plio_ciso_T31_gx3v7 - Exp B\n",
    "#ExpB_CISO_Data = xr.open_dataset('/glade/p/univ/p93300190/nburls/Plio_ciso_T31_gx3v7/ocn/hist/CLIM/Plio_ciso_T31_gx3v7_ALL.2901-3000.nc',decode_times=True)"
   ]
  },
  {
   "cell_type": "code",
   "execution_count": 5,
   "metadata": {},
   "outputs": [],
   "source": [
    "# Define pH variables\n",
    "PI_pH = PI_CISO_Data.pH_3D\n",
    "PlioMio_pH = PlioMio_CISO_Data.pH_3D\n",
    "# Save pH variables\n",
    "PI_pH.to_netcdf('/glade/work/nburls/CISO_Analysis/ShankleEtAlModelFigureData/PI_pH.nc')\n",
    "PlioMio_pH.to_netcdf('/glade/work/nburls/CISO_Analysis/ShankleEtAlModelFigureData/PlioMio_pH.nc')"
   ]
  },
  {
   "cell_type": "code",
   "execution_count": 13,
   "metadata": {},
   "outputs": [],
   "source": [
    "# Define Basin Mask variable\n",
    "basin_mask = PI_CISO_Data.REGION_MASK\n",
    "# Save Basin Mask variable\n",
    "basin_mask.to_netcdf('/glade/work/nburls/CISO_Analysis/ShankleEtAlModelFigureData/basin_mask.nc')"
   ]
  },
  {
   "cell_type": "code",
   "execution_count": 22,
   "metadata": {},
   "outputs": [],
   "source": [
    "# Define IAGE variables\n",
    "PI_IAGE = PI_CISO_Data.IAGE\n",
    "PlioMio_IAGE = PlioMio_CISO_Data.IAGE\n",
    "# Save IAGE variables\n",
    "PI_IAGE.to_netcdf('/glade/work/nburls/CISO_Analysis/ShankleEtAlModelFigureData/PI_IAGE.nc')\n",
    "PlioMio_IAGE.to_netcdf('/glade/work/nburls/CISO_Analysis/ShankleEtAlModelFigureData/PlioMio_IAGE.nc')"
   ]
  },
  {
   "cell_type": "code",
   "execution_count": 10,
   "metadata": {},
   "outputs": [],
   "source": [
    "# Define Stream Function variables\n",
    "PI_Global_Total_SF = PI_CISO_Data.MOC[0,0,0,:,:]+PI_CISO_Data.MOC[0,0,1,:,:]+PI_CISO_Data.MOC[0,0,2,:,:]\n",
    "PI_Atlantic_Total_SF = PI_CISO_Data.MOC[0,1,0,:,:]+PI_CISO_Data.MOC[0,1,1,:,:]+PI_CISO_Data.MOC[0,1,2,:,:]\n",
    "PI_Pacific_Total_SF =  PI_Global_Total_SF - PI_Atlantic_Total_SF\n",
    "\n",
    "PlioMio_Global_Total_SF = PlioMio_CISO_Data.MOC[0,0,0,:,:]+PlioMio_CISO_Data.MOC[0,0,1,:,:]+PlioMio_CISO_Data.MOC[0,0,2,:,:]\n",
    "PlioMio_Atlantic_Total_SF = PlioMio_CISO_Data.MOC[0,1,0,:,:]+PlioMio_CISO_Data.MOC[0,1,1,:,:]+PlioMio_CISO_Data.MOC[0,1,2,:,:]\n",
    "PlioMio_Pacific_Total_SF =  PlioMio_Global_Total_SF - PlioMio_Atlantic_Total_SF\n",
    "# Save Stream Function variables\n",
    "PI_Global_Total_SF.to_netcdf('/glade/work/nburls/CISO_Analysis/ShankleEtAlModelFigureData/PI_Global_MOC.nc')\n",
    "PlioMio_Global_Total_SF.to_netcdf('/glade/work/nburls/CISO_Analysis/ShankleEtAlModelFigureData/PlioMio_Global_MOC.nc')\n",
    "PI_Atlantic_Total_SF.to_netcdf('/glade/work/nburls/CISO_Analysis/ShankleEtAlModelFigureData/PI_Atlantic_MOC.nc')\n",
    "PlioMio_Atlantic_Total_SF.to_netcdf('/glade/work/nburls/CISO_Analysis/ShankleEtAlModelFigureData/PlioMio_Atlantic_MOC.nc')\n",
    "PI_Pacific_Total_SF.to_netcdf('/glade/work/nburls/CISO_Analysis/ShankleEtAlModelFigureData/PI_Pacific_MOC.nc')\n",
    "PlioMio_Pacific_Total_SF.to_netcdf('/glade/work/nburls/CISO_Analysis/ShankleEtAlModelFigureData/PlioMio_Pacific_MOC.nc')"
   ]
  },
  {
   "cell_type": "code",
   "execution_count": 19,
   "metadata": {},
   "outputs": [],
   "source": [
    "# Lagrangian Pathways already saved in single netcdf file\n",
    "#Exp_trajectory_Data = xr.open_dataset('/glade/work/nburls/CISO_Analysis/PMOC_pacific_trajectories_yz.nc',decode_times=True)"
   ]
  }
 ],
 "metadata": {
  "kernelspec": {
   "display_name": "Python 3",
   "language": "python",
   "name": "python3"
  },
  "language_info": {
   "codemirror_mode": {
    "name": "ipython",
    "version": 3
   },
   "file_extension": ".py",
   "mimetype": "text/x-python",
   "name": "python",
   "nbconvert_exporter": "python",
   "pygments_lexer": "ipython3",
   "version": "3.8.5"
  }
 },
 "nbformat": 4,
 "nbformat_minor": 4
}
